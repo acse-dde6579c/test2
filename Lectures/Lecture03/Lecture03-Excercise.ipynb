{
 "cells": [
  {
   "cell_type": "markdown",
   "id": "778ee62b",
   "metadata": {
    "slideshow": {
     "slide_type": "slide"
    }
   },
   "source": [
    "#  <center>  Pandas"
   ]
  },
  {
   "cell_type": "code",
   "execution_count": 1,
   "id": "006f29dd",
   "metadata": {},
   "outputs": [],
   "source": [
    "#Importing library\n",
    "import pandas as pd\n",
    "\n",
    "import numpy as np\n",
    "from numpy.random import randn\n",
    "np.random.seed(101)"
   ]
  },
  {
   "cell_type": "markdown",
   "id": "1f298729",
   "metadata": {},
   "source": [
    "### Exercise set 1\n",
    "\n",
    "The first step in most data analytics projects is reading the data file. In this exercise, you'll create `Series` and `DataFrame` objects, both by hand and by reading data files."
   ]
  },
  {
   "cell_type": "markdown",
   "id": "a328d1d9",
   "metadata": {},
   "source": [
    "#### Ex. 1.1\n",
    "\n",
    "In the _Solution_ cell below, create a `DataFrame` fruits that looks like this:\n",
    "\n",
    "![](https://i.imgur.com/Ax3pp2A.png)"
   ]
  },
  {
   "cell_type": "code",
   "execution_count": 2,
   "id": "e62e9bb5",
   "metadata": {},
   "outputs": [],
   "source": [
    "# Solution\n"
   ]
  },
  {
   "cell_type": "markdown",
   "id": "14872342",
   "metadata": {},
   "source": [
    "#### Ex 1.2\n",
    "\n",
    "Create a variable `ingredients` with a Series that looks like:\n",
    "\n",
    "```\n",
    "Flour     4 cups\n",
    "Milk       1 cup\n",
    "Eggs     2 large\n",
    "Spam       1 can\n",
    "Name: Dinner, dtype: object\n",
    "```"
   ]
  },
  {
   "cell_type": "code",
   "execution_count": 3,
   "id": "95dfbac5",
   "metadata": {},
   "outputs": [],
   "source": [
    "# Solution:\n"
   ]
  },
  {
   "cell_type": "markdown",
   "id": "c0470d3f",
   "metadata": {},
   "source": [
    "#### Ex 1.3\n",
    "In the cell below, write code to save this `DataFrame` to disk as a csv file with the name `cows_and_goats.csv`."
   ]
  },
  {
   "cell_type": "code",
   "execution_count": 4,
   "id": "3c179693",
   "metadata": {},
   "outputs": [
    {
     "data": {
      "text/html": [
       "<div>\n",
       "<style scoped>\n",
       "    .dataframe tbody tr th:only-of-type {\n",
       "        vertical-align: middle;\n",
       "    }\n",
       "\n",
       "    .dataframe tbody tr th {\n",
       "        vertical-align: top;\n",
       "    }\n",
       "\n",
       "    .dataframe thead th {\n",
       "        text-align: right;\n",
       "    }\n",
       "</style>\n",
       "<table border=\"1\" class=\"dataframe\">\n",
       "  <thead>\n",
       "    <tr style=\"text-align: right;\">\n",
       "      <th></th>\n",
       "      <th>Cows</th>\n",
       "      <th>Goats</th>\n",
       "    </tr>\n",
       "  </thead>\n",
       "  <tbody>\n",
       "    <tr>\n",
       "      <th>Year 1</th>\n",
       "      <td>12</td>\n",
       "      <td>22</td>\n",
       "    </tr>\n",
       "    <tr>\n",
       "      <th>Year 2</th>\n",
       "      <td>20</td>\n",
       "      <td>19</td>\n",
       "    </tr>\n",
       "  </tbody>\n",
       "</table>\n",
       "</div>"
      ],
      "text/plain": [
       "        Cows  Goats\n",
       "Year 1    12     22\n",
       "Year 2    20     19"
      ]
     },
     "execution_count": 4,
     "metadata": {},
     "output_type": "execute_result"
    }
   ],
   "source": [
    "animals = pd.DataFrame({'Cows': [12, 20], 'Goats': [22, 19]}, index=['Year 1', 'Year 2'])\n",
    "animals"
   ]
  },
  {
   "cell_type": "code",
   "execution_count": 5,
   "id": "400eed97",
   "metadata": {},
   "outputs": [],
   "source": [
    "### Solution\n"
   ]
  },
  {
   "cell_type": "markdown",
   "id": "bc494ed2",
   "metadata": {},
   "source": [
    "### Exercise set 2"
   ]
  },
  {
   "cell_type": "markdown",
   "id": "48db0c31",
   "metadata": {},
   "source": [
    "#### Ex 2.1\n",
    " Read inputs/core_data.csv as a dataframe call it `cr` \n",
    " \n",
    " ** show the head of it"
   ]
  },
  {
   "cell_type": "code",
   "execution_count": 6,
   "id": "e894de29",
   "metadata": {},
   "outputs": [],
   "source": [
    "### Solution\n"
   ]
  },
  {
   "cell_type": "code",
   "execution_count": 7,
   "id": "5dcf8a7a",
   "metadata": {},
   "outputs": [],
   "source": [
    "### Solution\n"
   ]
  },
  {
   "cell_type": "markdown",
   "id": "cfd80c4e",
   "metadata": {},
   "source": [
    "#### Ex 2.2\n",
    " Use the .info() method to find out how many entries there are."
   ]
  },
  {
   "cell_type": "code",
   "execution_count": 8,
   "id": "2cbecbbc",
   "metadata": {},
   "outputs": [],
   "source": [
    "### Solution\n"
   ]
  },
  {
   "cell_type": "markdown",
   "id": "27d6ce7d",
   "metadata": {},
   "source": [
    "#### Ex 2.3\n",
    "What is the average `Depth CSF-A (m)` ?"
   ]
  },
  {
   "cell_type": "code",
   "execution_count": 9,
   "id": "70b1dab0",
   "metadata": {},
   "outputs": [],
   "source": [
    "### Solution\n"
   ]
  },
  {
   "cell_type": "markdown",
   "id": "22dc0234",
   "metadata": {},
   "source": [
    "#### Ex 2.4\n",
    " What is the highest amount of `Reflectance a*` in the dataset?"
   ]
  },
  {
   "cell_type": "code",
   "execution_count": 10,
   "id": "f3f918b8",
   "metadata": {},
   "outputs": [],
   "source": [
    "### Solution\n"
   ]
  },
  {
   "cell_type": "markdown",
   "id": "da344255",
   "metadata": {},
   "source": [
    "#### Ex 2.5\n",
    "What is the amount of `Reflectance L*` for the highest amount of `Reflectance a*`"
   ]
  },
  {
   "cell_type": "code",
   "execution_count": 11,
   "id": "a0f0a5a2",
   "metadata": {},
   "outputs": [],
   "source": [
    "### Solution\n"
   ]
  },
  {
   "cell_type": "code",
   "execution_count": 12,
   "id": "a0db57c9",
   "metadata": {},
   "outputs": [],
   "source": [
    "### Solution\n"
   ]
  },
  {
   "cell_type": "markdown",
   "id": "1b8f8b1a",
   "metadata": {},
   "source": [
    "#### Ex 2.6\n",
    "what is the minimum `NGR total counts (cps)`'s Lithology type?"
   ]
  },
  {
   "cell_type": "code",
   "execution_count": 13,
   "id": "df73eab8",
   "metadata": {},
   "outputs": [],
   "source": [
    "### Solution\n"
   ]
  },
  {
   "cell_type": "code",
   "execution_count": 14,
   "id": "727669fc",
   "metadata": {},
   "outputs": [],
   "source": [
    "### Solution\n"
   ]
  },
  {
   "cell_type": "markdown",
   "id": "7fe220e8",
   "metadata": {},
   "source": [
    "#### Ex 2.7\n",
    "How many `Holes` has the `Lithology` type of `Marls`?"
   ]
  },
  {
   "cell_type": "code",
   "execution_count": 15,
   "id": "ca65861f",
   "metadata": {},
   "outputs": [],
   "source": [
    "### Solution\n"
   ]
  },
  {
   "cell_type": "markdown",
   "id": "73aec1f7",
   "metadata": {},
   "source": [
    "#### Ex 2.8\n",
    "What is the data type of the `Hole` column in the dataset?"
   ]
  },
  {
   "cell_type": "code",
   "execution_count": 16,
   "id": "257d3d73",
   "metadata": {},
   "outputs": [],
   "source": [
    "### Solution\n"
   ]
  },
  {
   "cell_type": "markdown",
   "id": "3cc45408",
   "metadata": {},
   "source": [
    "#### Ex 2.9\n",
    "\n",
    "Create a variable `df` containing the `Depth CSF-A (m)` and `Lithology` columns of the first 100 records\n",
    "\n",
    "Hint: you may use `loc` or `iloc`. When working on the answer this question and the several of the ones that follow, keep the following \"gotcha\" described in the lecture:\n",
    "\n"
   ]
  },
  {
   "cell_type": "code",
   "execution_count": 17,
   "id": "703565ff",
   "metadata": {},
   "outputs": [],
   "source": [
    "### Solution\n"
   ]
  },
  {
   "cell_type": "code",
   "execution_count": 18,
   "id": "d01b1afa",
   "metadata": {},
   "outputs": [],
   "source": [
    "### Solution\n"
   ]
  },
  {
   "cell_type": "markdown",
   "id": "7b8ddbca",
   "metadata": {},
   "source": [
    "#### Ex 2.10\n",
    "What is the number of data in `df` in which `Depth CSF-A (m)` is more than **10** and less than **25**  "
   ]
  },
  {
   "cell_type": "code",
   "execution_count": 19,
   "id": "cc68f655",
   "metadata": {},
   "outputs": [],
   "source": [
    "### Solution\n"
   ]
  },
  {
   "cell_type": "markdown",
   "id": "3cb18c20",
   "metadata": {},
   "source": [
    "#### Ex 2.11\n",
    "Calculate the number of missing, and duplicated values? What is the number of unique values for `df`"
   ]
  },
  {
   "cell_type": "code",
   "execution_count": 20,
   "id": "9471f97b",
   "metadata": {},
   "outputs": [],
   "source": [
    "### Solution\n"
   ]
  },
  {
   "cell_type": "code",
   "execution_count": 21,
   "id": "7a2bb8a1",
   "metadata": {},
   "outputs": [],
   "source": [
    "### Solution\n"
   ]
  },
  {
   "cell_type": "code",
   "execution_count": 22,
   "id": "3fac20e7",
   "metadata": {},
   "outputs": [],
   "source": [
    "### Solution\n"
   ]
  },
  {
   "cell_type": "markdown",
   "id": "f758e3fe",
   "metadata": {},
   "source": [
    "### Exercise set 3\n",
    "We are going to load a new data. Run the below cell\n",
    "\n",
    "** If you have time, apply your solutions for the questions above on the new dataset"
   ]
  },
  {
   "cell_type": "code",
   "execution_count": 23,
   "id": "061d5100",
   "metadata": {},
   "outputs": [],
   "source": [
    "wi = pd.read_csv('inputs/winemag-data-130k-v2.csv')"
   ]
  },
  {
   "cell_type": "markdown",
   "id": "d36f8d4b",
   "metadata": {},
   "source": [
    "#### Ex 3.1\n",
    "There are only so many words you can use when describing a bottle of wine. Is a wine more likely to be \"tropical\" or \"fruity\"? Create a Series descriptor_counts counting how many times each of these two words appears in the description column in the dataset."
   ]
  },
  {
   "cell_type": "code",
   "execution_count": 24,
   "id": "6b070657",
   "metadata": {},
   "outputs": [],
   "source": [
    "### Solution\n"
   ]
  },
  {
   "cell_type": "markdown",
   "id": "0f2f3b63",
   "metadata": {},
   "source": [
    "#### Ex 3.2\n",
    "Who are the most common wine reviewers in the dataset? Create a `Series` whose index is the `taster_twitter_handle` category from the dataset, and whose values count how many reviews each person wrote."
   ]
  },
  {
   "cell_type": "code",
   "execution_count": 25,
   "id": "f6fa1c0e",
   "metadata": {},
   "outputs": [],
   "source": [
    "### Solution\n",
    "\n"
   ]
  },
  {
   "cell_type": "code",
   "execution_count": 26,
   "id": "2b145dbc",
   "metadata": {},
   "outputs": [],
   "source": [
    "### Solution\n"
   ]
  },
  {
   "cell_type": "markdown",
   "id": "ebbdca21",
   "metadata": {},
   "source": [
    "#### Ex 3.3\n",
    "Create a dataframe top_oceania_wines containing all reviews with at least 95 points (out of 100) for wines from Australia or New Zealand."
   ]
  },
  {
   "cell_type": "code",
   "execution_count": 27,
   "id": "bd59c819",
   "metadata": {},
   "outputs": [],
   "source": [
    "### Solution\n",
    "\n",
    "\n"
   ]
  },
  {
   "cell_type": "markdown",
   "id": "d1e3a07f",
   "metadata": {},
   "source": [
    "#### Ex 3.4\n",
    "What are the minimum and maximum prices for each `variety` of wine? Create a `DataFrame` whose index is the `variety` category from the dataset and whose values are the `min` and `max` values thereof."
   ]
  },
  {
   "cell_type": "code",
   "execution_count": 28,
   "id": "ccd3c10b",
   "metadata": {},
   "outputs": [],
   "source": [
    "### Solution\n"
   ]
  },
  {
   "cell_type": "code",
   "execution_count": 29,
   "id": "75ceaf78",
   "metadata": {},
   "outputs": [],
   "source": [
    "### Solution\n"
   ]
  },
  {
   "cell_type": "markdown",
   "id": "476e043b",
   "metadata": {},
   "source": [
    "#### Ex 3.5\n",
    "I'm an economical wine buyer. Which wine is the \"best bargain\"? Create a variable bargain_wine with the title of the wine with the highest points-to-price ratio in the dataset.\n",
    "\n"
   ]
  },
  {
   "cell_type": "code",
   "execution_count": 30,
   "id": "22771174",
   "metadata": {},
   "outputs": [],
   "source": [
    "### Solution\n"
   ]
  },
  {
   "cell_type": "markdown",
   "id": "a809e870",
   "metadata": {},
   "source": [
    "#### Ex 3.6\n",
    "\n",
    "`region_1` and `region_2` are pretty uninformative names for locale columns in our wine reviews dataset. Create a copy of `wi` with these columns renamed to `region` and `locale`, respectively."
   ]
  },
  {
   "cell_type": "code",
   "execution_count": 31,
   "id": "6a933293",
   "metadata": {},
   "outputs": [],
   "source": [
    "### Solution\n"
   ]
  }
 ],
 "metadata": {
  "kernelspec": {
   "display_name": "Python 3 (ipykernel)",
   "language": "python",
   "name": "python3"
  },
  "language_info": {
   "codemirror_mode": {
    "name": "ipython",
    "version": 3
   },
   "file_extension": ".py",
   "mimetype": "text/x-python",
   "name": "python",
   "nbconvert_exporter": "python",
   "pygments_lexer": "ipython3",
   "version": "3.10.5"
  }
 },
 "nbformat": 4,
 "nbformat_minor": 5
}
